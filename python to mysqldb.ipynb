{
 "cells": [
  {
   "cell_type": "markdown",
   "id": "a70fc466",
   "metadata": {},
   "source": [
    "### 1 .Connecting MYSQL  Database to python using MYSQL.connector"
   ]
  },
  {
   "cell_type": "code",
   "execution_count": 8,
   "id": "17e961dc",
   "metadata": {},
   "outputs": [],
   "source": [
    "#pip install mysql-connector-python\n",
    "import mysql.connector\n",
    "db=mysql.connector.connect(host='localhost',password='12345',user='root',database=\"cardb1\")\n",
    "mycursor= db.cursor()"
   ]
  },
  {
   "cell_type": "code",
   "execution_count": 17,
   "id": "24f824b9",
   "metadata": {},
   "outputs": [
    {
     "name": "stdout",
     "output_type": "stream",
     "text": [
      "connection establised..\n"
     ]
    }
   ],
   "source": [
    "if db.is_connected():\n",
    "    print(\"connection establised..\")"
   ]
  },
  {
   "cell_type": "code",
   "execution_count": 22,
   "id": "081d1e9a",
   "metadata": {},
   "outputs": [
    {
     "name": "stdout",
     "output_type": "stream",
     "text": [
      "('ritz', 2014, Decimal('3'), Decimal('6'), Decimal('27000'), 'Petrol', 'Dealer', 'Manual', 0)\n",
      "('sx4', 2013, Decimal('5'), Decimal('10'), Decimal('43000'), 'Diesel', 'Dealer', 'Manual', 0)\n",
      "('ciaz', 2017, Decimal('7'), Decimal('10'), Decimal('6900'), 'Petrol', 'Dealer', 'Manual', 0)\n",
      "('wagon r', 2011, Decimal('3'), Decimal('4'), Decimal('5200'), 'Petrol', 'Dealer', 'Manual', 0)\n",
      "('swift', 2014, Decimal('5'), Decimal('7'), Decimal('42450'), 'Diesel', 'Dealer', 'Manual', 0)\n",
      "('vitara brezza', 2018, Decimal('9'), Decimal('10'), Decimal('2071'), 'Diesel', 'Dealer', 'Manual', 0)\n",
      "('ciaz', 2015, Decimal('7'), Decimal('8'), Decimal('18796'), 'Petrol', 'Dealer', 'Manual', 0)\n",
      "('s cross', 2015, Decimal('7'), Decimal('9'), Decimal('33429'), 'Diesel', 'Dealer', 'Manual', 0)\n",
      "('ciaz', 2016, Decimal('9'), Decimal('9'), Decimal('20273'), 'Diesel', 'Dealer', 'Manual', 0)\n",
      "('ciaz', 2015, Decimal('7'), Decimal('9'), Decimal('42367'), 'Diesel', 'Dealer', 'Manual', 0)\n"
     ]
    }
   ],
   "source": [
    "# columns of car_details csv file \n",
    "mycursor.execute(\"SELECT * FROM car_details limit 10\")\n",
    "for i in mycursor:\n",
    "    print(i)\n",
    "    "
   ]
  },
  {
   "cell_type": "markdown",
   "id": "b30f3302",
   "metadata": {},
   "source": [
    "### 2. Creating Fuel_id and Transmission_id table and inserting values."
   ]
  },
  {
   "cell_type": "code",
   "execution_count": 75,
   "id": "f57a12c8",
   "metadata": {},
   "outputs": [],
   "source": [
    "#creating  fueltype table\n",
    "mycursor.execute(\"CREATE TABLE tbl_fuel (fueltype VARCHAR(20) NOT NULL)\")"
   ]
  },
  {
   "cell_type": "code",
   "execution_count": null,
   "id": "f927c4c1",
   "metadata": {},
   "outputs": [],
   "source": [
    "#inserting values into fuel-type\n",
    "mycursor.execute(\"INSERT INTO tbl_fuel (fueltype) SELECT DISTINCT(Fuel_Type) from car_details\")\n",
    "db.commit()"
   ]
  },
  {
   "cell_type": "code",
   "execution_count": null,
   "id": "7e2cf5b2",
   "metadata": {},
   "outputs": [],
   "source": [
    "#adding ID for fuel_type\n",
    "mycursor.execute(\"ALTER TABLE tbl_fuel ADD fuel_id INT PRIMARY KEY NOT NULL AUTO_INCREMENT\");"
   ]
  },
  {
   "cell_type": "code",
   "execution_count": 79,
   "id": "c15e8f46",
   "metadata": {},
   "outputs": [],
   "source": [
    "#creating  Transmission  table and inset values and creating tranmission_IDs\n",
    "mycursor.execute(\"CREATE TABLE tbl_transmission (transmission_Type  VARCHAR(20) NOT NULL)\")\n",
    "mycursor.execute(\"INSERT INTO tbl_transmission (transmission_Type) SELECT DISTINCT(Transmission) from car_details\")\n",
    "mycursor.execute(\"ALTER TABLE tbl_transmission ADD transmissionID INT PRIMARY KEY NOT NULL AUTO_INCREMENT\");\n",
    "db.commit()"
   ]
  },
  {
   "cell_type": "code",
   "execution_count": 6,
   "id": "fbbeb94d",
   "metadata": {},
   "outputs": [
    {
     "name": "stdout",
     "output_type": "stream",
     "text": [
      "('Petrol', 1)\n",
      "('Diesel', 2)\n",
      "('CNG', 3)\n"
     ]
    }
   ],
   "source": [
    "# columns values of TBL_fuelid\n",
    "mycursor.execute(\"SELECT * FROM tbl_fuel\")\n",
    "for i in mycursor:\n",
    "    print(i)"
   ]
  },
  {
   "cell_type": "code",
   "execution_count": 7,
   "id": "f0ad003e",
   "metadata": {},
   "outputs": [
    {
     "name": "stdout",
     "output_type": "stream",
     "text": [
      "('Manual', 1)\n",
      "('Automatic', 2)\n"
     ]
    }
   ],
   "source": [
    "# columns values of TBL_transmission\n",
    "mycursor.execute(\"SELECT * FROM tbl_transmission\")\n",
    "for i in mycursor:\n",
    "    print(i)"
   ]
  },
  {
   "cell_type": "markdown",
   "id": "b32a12c3",
   "metadata": {},
   "source": [
    "### 3. creating tbl_cardata table"
   ]
  },
  {
   "cell_type": "code",
   "execution_count": 86,
   "id": "a6df8b36",
   "metadata": {},
   "outputs": [],
   "source": [
    "#creating table TBL_cardata\n",
    "mycursor.execute(\"CREATE TABLE tbl_CarData AS SELECT * FROM car_details\");"
   ]
  },
  {
   "cell_type": "markdown",
   "id": "f75c7b60",
   "metadata": {},
   "source": [
    "### 4 Creating Remark column and inserting values into Remark column based on condition\n",
    "### (The remarks should have \"Bad\" if Kms_Driven > 50000 and Owner > 0)"
   ]
  },
  {
   "cell_type": "code",
   "execution_count": 70,
   "id": "0a4ddcae",
   "metadata": {},
   "outputs": [],
   "source": [
    "\n",
    "mycursor.execute(\"alter table car_details add Remarks char(4);\n",
    "update tbl_CarData\n",
    "set Remarks = case when (Kms_Driven > 50000 and Owner > 0 ) then 'bad' else 'good' end\");"
   ]
  },
  {
   "cell_type": "markdown",
   "id": "3af13ba1",
   "metadata": {},
   "source": [
    "### 5. Adding Fuel_id and Transmission_id into tbl_cardata"
   ]
  },
  {
   "cell_type": "code",
   "execution_count": 120,
   "id": "ae841093",
   "metadata": {},
   "outputs": [],
   "source": [
    "#Adding Fuel_id in tbl_cardata\n",
    "mycursor.execute(\"Alter table tbl_CarData add fuel_id int\")"
   ]
  },
  {
   "cell_type": "code",
   "execution_count": 94,
   "id": "73962db3",
   "metadata": {},
   "outputs": [],
   "source": [
    "#Adding Transmission_id in tbl_cardata\n",
    "mycursor.execute(\"Alter table tbl_CarData add TransmissionID int\")"
   ]
  },
  {
   "cell_type": "code",
   "execution_count": 4,
   "id": "30aa67c7",
   "metadata": {},
   "outputs": [],
   "source": [
    "mycursor.execute(\"update tbl_cardata set fuel_id=1 where Fuel_type='Petrol'\");\n",
    "mycursor.execute(\"update tbl_cardata set fuel_id=2 where Fuel_type='Diesel'\");\n",
    "mycursor.execute(\"update tbl_cardata set fuel_id=3 where Fuel_type='CNG'\");"
   ]
  },
  {
   "cell_type": "code",
   "execution_count": 5,
   "id": "ac9a6122",
   "metadata": {},
   "outputs": [],
   "source": [
    "#adding transmission column\n",
    "mycursor.execute(\"Alter table tbl_CarData add TransmissionID int\")"
   ]
  },
  {
   "cell_type": "code",
   "execution_count": 4,
   "id": "808376e0",
   "metadata": {},
   "outputs": [],
   "source": [
    "#Updating Tranmission_id column in TBL_cardata\n",
    "mycursor.execute(\"update tbl_cardata set TransmissionID=1 where Transmission='Manual'\");\n",
    "mycursor.execute(\"update tbl_cardata set TransmissionID=2 where Transmission='Automatic'\");"
   ]
  },
  {
   "cell_type": "code",
   "execution_count": 24,
   "id": "65cf2a95",
   "metadata": {},
   "outputs": [
    {
     "name": "stdout",
     "output_type": "stream",
     "text": [
      "('ritz', 2014, Decimal('3'), Decimal('6'), Decimal('27000'), 'Dealer', 0, 'good', 1, 1)\n",
      "('sx4', 2013, Decimal('5'), Decimal('10'), Decimal('43000'), 'Dealer', 0, 'good', 2, 1)\n",
      "('ciaz', 2017, Decimal('7'), Decimal('10'), Decimal('6900'), 'Dealer', 0, 'good', 1, 1)\n",
      "('wagon r', 2011, Decimal('3'), Decimal('4'), Decimal('5200'), 'Dealer', 0, 'good', 1, 1)\n",
      "('swift', 2014, Decimal('5'), Decimal('7'), Decimal('42450'), 'Dealer', 0, 'good', 2, 1)\n",
      "('vitara brezza', 2018, Decimal('9'), Decimal('10'), Decimal('2071'), 'Dealer', 0, 'good', 2, 1)\n",
      "('ciaz', 2015, Decimal('7'), Decimal('8'), Decimal('18796'), 'Dealer', 0, 'good', 1, 1)\n",
      "('s cross', 2015, Decimal('7'), Decimal('9'), Decimal('33429'), 'Dealer', 0, 'good', 2, 1)\n",
      "('ciaz', 2016, Decimal('9'), Decimal('9'), Decimal('20273'), 'Dealer', 0, 'good', 2, 1)\n",
      "('ciaz', 2015, Decimal('7'), Decimal('9'), Decimal('42367'), 'Dealer', 0, 'good', 2, 1)\n"
     ]
    }
   ],
   "source": [
    "# columns of TBL_cardata\n",
    "mycursor.execute(\"SELECT * FROM tbl_cardata limit 10\")\n",
    "for i in mycursor:\n",
    "    print(i)"
   ]
  },
  {
   "cell_type": "markdown",
   "id": "1e2b7af5",
   "metadata": {},
   "source": [
    "### 6 .Dropping  Fuel_type and Transmission"
   ]
  },
  {
   "cell_type": "code",
   "execution_count": 11,
   "id": "117c6ff3",
   "metadata": {},
   "outputs": [],
   "source": [
    "\n",
    "mycursor.execute(\"ALTER TABLE tbl_cardata  DROP COLUMN Fuel_Type\")  "
   ]
  },
  {
   "cell_type": "code",
   "execution_count": 12,
   "id": "9cfaee3a",
   "metadata": {},
   "outputs": [],
   "source": [
    "mycursor.execute(\"ALTER TABLE tbl_cardata  DROP COLUMN Transmission\")  "
   ]
  },
  {
   "cell_type": "code",
   "execution_count": 23,
   "id": "2ac2eed6",
   "metadata": {},
   "outputs": [
    {
     "name": "stdout",
     "output_type": "stream",
     "text": [
      "('ritz', 2014, Decimal('3'), Decimal('6'), Decimal('27000'), 'Dealer', 0, 'good', 1, 1)\n",
      "('sx4', 2013, Decimal('5'), Decimal('10'), Decimal('43000'), 'Dealer', 0, 'good', 2, 1)\n",
      "('ciaz', 2017, Decimal('7'), Decimal('10'), Decimal('6900'), 'Dealer', 0, 'good', 1, 1)\n",
      "('wagon r', 2011, Decimal('3'), Decimal('4'), Decimal('5200'), 'Dealer', 0, 'good', 1, 1)\n",
      "('swift', 2014, Decimal('5'), Decimal('7'), Decimal('42450'), 'Dealer', 0, 'good', 2, 1)\n",
      "('vitara brezza', 2018, Decimal('9'), Decimal('10'), Decimal('2071'), 'Dealer', 0, 'good', 2, 1)\n",
      "('ciaz', 2015, Decimal('7'), Decimal('8'), Decimal('18796'), 'Dealer', 0, 'good', 1, 1)\n",
      "('s cross', 2015, Decimal('7'), Decimal('9'), Decimal('33429'), 'Dealer', 0, 'good', 2, 1)\n",
      "('ciaz', 2016, Decimal('9'), Decimal('9'), Decimal('20273'), 'Dealer', 0, 'good', 2, 1)\n",
      "('ciaz', 2015, Decimal('7'), Decimal('9'), Decimal('42367'), 'Dealer', 0, 'good', 2, 1)\n"
     ]
    }
   ],
   "source": [
    "mycursor.execute(\"SELECT * FROM tbl_cardata limit 10\")\n",
    "for i in mycursor:\n",
    "    print(i)"
   ]
  },
  {
   "cell_type": "code",
   "execution_count": null,
   "id": "93d57a3a",
   "metadata": {},
   "outputs": [],
   "source": []
  }
 ],
 "metadata": {
  "kernelspec": {
   "display_name": "Python 3 (ipykernel)",
   "language": "python",
   "name": "python3"
  },
  "language_info": {
   "codemirror_mode": {
    "name": "ipython",
    "version": 3
   },
   "file_extension": ".py",
   "mimetype": "text/x-python",
   "name": "python",
   "nbconvert_exporter": "python",
   "pygments_lexer": "ipython3",
   "version": "3.9.12"
  }
 },
 "nbformat": 4,
 "nbformat_minor": 5
}
